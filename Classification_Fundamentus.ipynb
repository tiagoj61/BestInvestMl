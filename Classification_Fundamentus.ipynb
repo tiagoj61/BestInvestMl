{
  "cells": [
    {
      "cell_type": "code",
      "execution_count": 1,
      "metadata": {
        "id": "qtIBgkP3PnzT"
      },
      "outputs": [],
      "source": [
        "import numpy as np\n",
        "import pandas as pd\n",
        "import psycopg2\n",
        "import seaborn as sns\n",
        "import matplotlib.pyplot as plt\n",
        "from sklearn.datasets import load_iris\n",
        "from sklearn.preprocessing import MinMaxScaler\n",
        "from sklearn.neural_network import MLPClassifier\n",
        "from sklearn.linear_model import LogisticRegression\n",
        "from sklearn.model_selection import train_test_split\n",
        "from sklearn.metrics import accuracy_score, confusion_matrix, plot_confusion_matrix, f1_score\n",
        "from sklearn.neighbors import KNeighborsClassifier\n",
        "from sklearn.metrics import silhouette_score\n",
        "from sklearn.cluster import KMeans, DBSCAN"
      ]
    },
    {
      "cell_type": "code",
      "execution_count": null,
      "metadata": {
        "id": "RRlZi2QXRaCH"
      },
      "outputs": [],
      "source": [
        "\n",
        "param_dic = {\n",
        "    \"host\"      : \"localhost\",\n",
        "    \"database\"  : \"ml_fundamentus\",\n",
        "    \"user\"      : \"postgres\",\n",
        "    \"password\"  : \"postgres\"\n",
        "}\n",
        "def connect(params_dic):\n",
        "    conn = None\n",
        "    try:\n",
        "\n",
        "        print('Connecting to the PostgreSQL database...')\n",
        "        conn = psycopg2.connect(**params_dic)\n",
        "    except (Exception, psycopg2.DatabaseError) as error:\n",
        "        print(error)\n",
        "    print(\"Connection successful\")\n",
        "    return conn\n",
        "\n",
        "def postgresql_to_dataframe(conn, select_query, column_names):\n",
        "    cursor = conn.cursor()\n",
        "    try:\n",
        "        cursor.execute(select_query)\n",
        "    except (Exception, psycopg2.DatabaseError) as error:\n",
        "        print(\"Error: %s\" % error)\n",
        "        cursor.close()\n",
        "        return 1\n",
        "    \n",
        "\n",
        "    tupples = cursor.fetchall()\n",
        "    cursor.close()\n",
        "    \n",
        "    \n",
        "    df = pd.DataFrame(tupples, columns=column_names)\n",
        "    return df\n",
        " \n",
        "\n",
        "conn = connect(param_dic)\n",
        "column_names = ['id','papel','cotacao','p_l','p_vp','psr','div_yield','p_ativo','p_cap_giro','p_ebit','p_ativo_circulante','ev_ebit','ev_ebitda','mrg_ebit','mrg_liquida','liq_corr','roic','roe','liquides_2meses','patrim_liquido','div_bruto_patrimonio','crescimento_recorente_5a']\n",
        "# Execute the \"SELECT *\" query\n",
        "df = postgresql_to_dataframe(conn, \"select * from acao\", column_names)\n",
        "\n",
        "print(df.head())"
      ]
    },
    {
      "cell_type": "code",
      "execution_count": null,
      "metadata": {
        "colab": {
          "base_uri": "https://localhost:8080/",
          "height": 196
        },
        "id": "JJAIYL_HRl9d",
        "outputId": "7d98eb6c-b928-4eb1-e8b3-0715f310cdb4"
      },
      "outputs": [],
      "source": [
        "df=df.drop('id', axis=1)  \n",
        "df=df.drop('papel', axis=1)  \n",
        "\n",
        "df.head()"
      ]
    },
    {
      "cell_type": "code",
      "execution_count": null,
      "metadata": {
        "colab": {
          "base_uri": "https://localhost:8080/",
          "height": 294
        },
        "id": "C82DgPSURm-2",
        "outputId": "d5ffa087-de51-4eb7-8c09-38cc76a419d8"
      },
      "outputs": [],
      "source": [
        "df.describe()"
      ]
    },
    {
      "cell_type": "code",
      "execution_count": null,
      "metadata": {
        "colab": {
          "base_uri": "https://localhost:8080/"
        },
        "id": "mKqzJK1uS6_c",
        "outputId": "77606e65-dd7a-4728-a5ed-f6dfa8dc8612"
      },
      "outputs": [],
      "source": [
        "df.info()"
      ]
    },
    {
      "cell_type": "code",
      "execution_count": 6,
      "metadata": {},
      "outputs": [],
      "source": [
        "#sns.pairplot(df)"
      ]
    },
    {
      "cell_type": "code",
      "execution_count": 7,
      "metadata": {
        "colab": {
          "base_uri": "https://localhost:8080/",
          "height": 726
        },
        "id": "M1S77m_BTJMl",
        "outputId": "4fc25985-58ab-4b87-eb8c-a3ace26f4a58",
        "tags": []
      },
      "outputs": [],
      "source": [
        "X = df.values"
      ]
    },
    {
      "cell_type": "code",
      "execution_count": 8,
      "metadata": {
        "id": "JSSpegbsTwLU"
      },
      "outputs": [],
      "source": [
        "km_2 = KMeans(n_clusters=2).fit(X)\n",
        "km_3 = KMeans(n_clusters=3).fit(X)"
      ]
    },
    {
      "cell_type": "code",
      "execution_count": 9,
      "metadata": {
        "id": "JXXY7Cg_V0Ps"
      },
      "outputs": [],
      "source": [
        "km_2_labels = km_2.labels_\n",
        "km_3_labels = km_3.labels_\n",
        "\n",
        "iris_df_km_2 = df.copy()\n",
        "iris_df_km_2['labels'] = km_2_labels\n",
        "\n",
        "iris_df_km_3 = df.copy()\n",
        "iris_df_km_3['labels'] = km_3_labels"
      ]
    },
    {
      "cell_type": "code",
      "execution_count": null,
      "metadata": {
        "colab": {
          "base_uri": "https://localhost:8080/"
        },
        "id": "BH6f2GfGWTGO",
        "outputId": "6e4c9993-e6b1-4d1b-829d-3b5ac42cb2c6"
      },
      "outputs": [],
      "source": [
        "sns.pairplot(iris_df_km_2, hue='labels')"
      ]
    },
    {
      "cell_type": "code",
      "execution_count": 11,
      "metadata": {
        "colab": {
          "base_uri": "https://localhost:8080/"
        },
        "id": "VHujd7SKW6ZZ",
        "outputId": "38992098-779c-4ebc-dae9-58b8f71d3817"
      },
      "outputs": [],
      "source": [
        "lista_de_WSS = []\n",
        "lista_de_silhueta = []\n",
        "\n",
        "for i in range(2, 15):\n",
        "    km = KMeans(n_clusters=i).fit(X)\n",
        "    lista_de_WSS.append(km.inertia_)\n",
        "    lista_de_silhueta.append(silhouette_score(X, km.labels_))\n"
      ]
    },
    {
      "cell_type": "code",
      "execution_count": null,
      "metadata": {
        "colab": {
          "base_uri": "https://localhost:8080/"
        },
        "id": "Q3ZoePayXk_H",
        "outputId": "4b5e5193-887b-4f66-cae6-e9e2b186788d"
      },
      "outputs": [],
      "source": [
        "plt.plot(np.arange(2, 15), lista_de_WSS)"
      ]
    },
    {
      "cell_type": "code",
      "execution_count": null,
      "metadata": {},
      "outputs": [],
      "source": [
        "plt.plot(np.arange(2, 15), lista_de_silhueta)"
      ]
    }
  ],
  "metadata": {
    "colab": {
      "name": "Classification_Iris.ipynb",
      "provenance": []
    },
    "kernelspec": {
      "display_name": "Python 3.8.5 64-bit ('base': conda)",
      "name": "python385jvsc74a57bd058e320d09275a7c19a10b7b533774b20c5ffe03fcbb80208082d592ed7c5df1b"
    },
    "language_info": {
      "name": "python",
      "version": "3.8.5"
    }
  },
  "nbformat": 4,
  "nbformat_minor": 0
}
